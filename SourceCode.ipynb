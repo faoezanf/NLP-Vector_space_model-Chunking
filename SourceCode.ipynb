{
  "nbformat": 4,
  "nbformat_minor": 0,
  "metadata": {
    "colab": {
      "name": "Chunking using VSM.ipynb",
      "provenance": [],
      "collapsed_sections": []
    },
    "kernelspec": {
      "name": "python3",
      "display_name": "Python 3"
    },
    "accelerator": "GPU"
  },
  "cells": [
    {
      "cell_type": "code",
      "metadata": {
        "colab": {
          "base_uri": "https://localhost:8080/"
        },
        "id": "we8gEMxBYRHn",
        "outputId": "0124c34a-fb7a-4ec2-ef73-d03601b447ce"
      },
      "source": [
        "from google.colab import drive\n",
        "drive.mount('/content/drive')"
      ],
      "execution_count": 1,
      "outputs": [
        {
          "output_type": "stream",
          "text": [
            "Drive already mounted at /content/drive; to attempt to forcibly remount, call drive.mount(\"/content/drive\", force_remount=True).\n"
          ],
          "name": "stdout"
        }
      ]
    },
    {
      "cell_type": "code",
      "metadata": {
        "id": "bMJZ1YV3ZR4A"
      },
      "source": [
        "import pandas as pd\n",
        "import numpy as np\n",
        "from gensim.models import Word2Vec,FastText\n",
        "from sklearn.model_selection import train_test_split\n",
        "from sklearn.linear_model import LogisticRegression\n",
        "from sklearn.ensemble import RandomForestClassifier\n",
        "from sklearn.metrics import accuracy_score"
      ],
      "execution_count": 2,
      "outputs": []
    },
    {
      "cell_type": "code",
      "metadata": {
        "colab": {
          "base_uri": "https://localhost:8080/",
          "height": 406
        },
        "id": "Jek9X-1hZbzb",
        "outputId": "626e79c9-0aab-4a10-9ae9-89f10533021b"
      },
      "source": [
        "train_data = pd.read_csv(\"drive/My Drive/Sequential Labelling/dataset/train.csv\", encoding=\"utf-8\",names=['chunks'])\n",
        "train_data[['Words','POS','TAG']] = train_data[\"chunks\"].str.split(\" \", 2, expand=True)\n",
        "train_data = train_data.drop(columns=['chunks'])\n",
        "train_data"
      ],
      "execution_count": 3,
      "outputs": [
        {
          "output_type": "execute_result",
          "data": {
            "text/html": [
              "<div>\n",
              "<style scoped>\n",
              "    .dataframe tbody tr th:only-of-type {\n",
              "        vertical-align: middle;\n",
              "    }\n",
              "\n",
              "    .dataframe tbody tr th {\n",
              "        vertical-align: top;\n",
              "    }\n",
              "\n",
              "    .dataframe thead th {\n",
              "        text-align: right;\n",
              "    }\n",
              "</style>\n",
              "<table border=\"1\" class=\"dataframe\">\n",
              "  <thead>\n",
              "    <tr style=\"text-align: right;\">\n",
              "      <th></th>\n",
              "      <th>Words</th>\n",
              "      <th>POS</th>\n",
              "      <th>TAG</th>\n",
              "    </tr>\n",
              "  </thead>\n",
              "  <tbody>\n",
              "    <tr>\n",
              "      <th>0</th>\n",
              "      <td>Confidence</td>\n",
              "      <td>NN</td>\n",
              "      <td>B-NP</td>\n",
              "    </tr>\n",
              "    <tr>\n",
              "      <th>1</th>\n",
              "      <td>in</td>\n",
              "      <td>IN</td>\n",
              "      <td>B-PP</td>\n",
              "    </tr>\n",
              "    <tr>\n",
              "      <th>2</th>\n",
              "      <td>the</td>\n",
              "      <td>DT</td>\n",
              "      <td>B-NP</td>\n",
              "    </tr>\n",
              "    <tr>\n",
              "      <th>3</th>\n",
              "      <td>pound</td>\n",
              "      <td>NN</td>\n",
              "      <td>I-NP</td>\n",
              "    </tr>\n",
              "    <tr>\n",
              "      <th>4</th>\n",
              "      <td>is</td>\n",
              "      <td>VBZ</td>\n",
              "      <td>B-VP</td>\n",
              "    </tr>\n",
              "    <tr>\n",
              "      <th>...</th>\n",
              "      <td>...</td>\n",
              "      <td>...</td>\n",
              "      <td>...</td>\n",
              "    </tr>\n",
              "    <tr>\n",
              "      <th>88184</th>\n",
              "      <td>the</td>\n",
              "      <td>DT</td>\n",
              "      <td>B-NP</td>\n",
              "    </tr>\n",
              "    <tr>\n",
              "      <th>88185</th>\n",
              "      <td>scorecard</td>\n",
              "      <td>NN</td>\n",
              "      <td>I-NP</td>\n",
              "    </tr>\n",
              "    <tr>\n",
              "      <th>88186</th>\n",
              "      <td>.</td>\n",
              "      <td>.</td>\n",
              "      <td>O</td>\n",
              "    </tr>\n",
              "    <tr>\n",
              "      <th>88187</th>\n",
              "      <td>NaN</td>\n",
              "      <td>NaN</td>\n",
              "      <td>NaN</td>\n",
              "    </tr>\n",
              "    <tr>\n",
              "      <th>88188</th>\n",
              "      <td>Pitcher</td>\n",
              "      <td>NN</td>\n",
              "      <td>B-NP</td>\n",
              "    </tr>\n",
              "  </tbody>\n",
              "</table>\n",
              "<p>88189 rows × 3 columns</p>\n",
              "</div>"
            ],
            "text/plain": [
              "            Words  POS   TAG\n",
              "0      Confidence   NN  B-NP\n",
              "1              in   IN  B-PP\n",
              "2             the   DT  B-NP\n",
              "3           pound   NN  I-NP\n",
              "4              is  VBZ  B-VP\n",
              "...           ...  ...   ...\n",
              "88184         the   DT  B-NP\n",
              "88185   scorecard   NN  I-NP\n",
              "88186           .    .     O\n",
              "88187         NaN  NaN   NaN\n",
              "88188     Pitcher   NN  B-NP\n",
              "\n",
              "[88189 rows x 3 columns]"
            ]
          },
          "metadata": {
            "tags": []
          },
          "execution_count": 3
        }
      ]
    },
    {
      "cell_type": "code",
      "metadata": {
        "colab": {
          "base_uri": "https://localhost:8080/",
          "height": 406
        },
        "id": "anA5CieN6d9W",
        "outputId": "4036d951-d7e4-4b7e-8637-79b09c7ad8ef"
      },
      "source": [
        "test_data = pd.read_csv(\"drive/My Drive/Sequential Labelling/dataset/test.csv\", encoding=\"utf-8\",names=['chunks'])\n",
        "test_data[['Words','POS','TAG']] = test_data[\"chunks\"].str.split(\" \", 2, expand=True)\n",
        "test_data = test_data.drop(columns=['chunks'])\n",
        "test_data"
      ],
      "execution_count": 4,
      "outputs": [
        {
          "output_type": "execute_result",
          "data": {
            "text/html": [
              "<div>\n",
              "<style scoped>\n",
              "    .dataframe tbody tr th:only-of-type {\n",
              "        vertical-align: middle;\n",
              "    }\n",
              "\n",
              "    .dataframe tbody tr th {\n",
              "        vertical-align: top;\n",
              "    }\n",
              "\n",
              "    .dataframe thead th {\n",
              "        text-align: right;\n",
              "    }\n",
              "</style>\n",
              "<table border=\"1\" class=\"dataframe\">\n",
              "  <thead>\n",
              "    <tr style=\"text-align: right;\">\n",
              "      <th></th>\n",
              "      <th>Words</th>\n",
              "      <th>POS</th>\n",
              "      <th>TAG</th>\n",
              "    </tr>\n",
              "  </thead>\n",
              "  <tbody>\n",
              "    <tr>\n",
              "      <th>0</th>\n",
              "      <td>Rockwell</td>\n",
              "      <td>NNP</td>\n",
              "      <td>B-NP</td>\n",
              "    </tr>\n",
              "    <tr>\n",
              "      <th>1</th>\n",
              "      <td>International</td>\n",
              "      <td>NNP</td>\n",
              "      <td>I-NP</td>\n",
              "    </tr>\n",
              "    <tr>\n",
              "      <th>2</th>\n",
              "      <td>Corp.</td>\n",
              "      <td>NNP</td>\n",
              "      <td>I-NP</td>\n",
              "    </tr>\n",
              "    <tr>\n",
              "      <th>3</th>\n",
              "      <td>'s</td>\n",
              "      <td>POS</td>\n",
              "      <td>B-NP</td>\n",
              "    </tr>\n",
              "    <tr>\n",
              "      <th>4</th>\n",
              "      <td>Tulsa</td>\n",
              "      <td>NNP</td>\n",
              "      <td>I-NP</td>\n",
              "    </tr>\n",
              "    <tr>\n",
              "      <th>...</th>\n",
              "      <td>...</td>\n",
              "      <td>...</td>\n",
              "      <td>...</td>\n",
              "    </tr>\n",
              "    <tr>\n",
              "      <th>49384</th>\n",
              "      <td>to</td>\n",
              "      <td>TO</td>\n",
              "      <td>B-PP</td>\n",
              "    </tr>\n",
              "    <tr>\n",
              "      <th>49385</th>\n",
              "      <td>Mr.</td>\n",
              "      <td>NNP</td>\n",
              "      <td>B-NP</td>\n",
              "    </tr>\n",
              "    <tr>\n",
              "      <th>49386</th>\n",
              "      <td>Harlow</td>\n",
              "      <td>NNP</td>\n",
              "      <td>I-NP</td>\n",
              "    </tr>\n",
              "    <tr>\n",
              "      <th>49387</th>\n",
              "      <td>.</td>\n",
              "      <td>.</td>\n",
              "      <td>O</td>\n",
              "    </tr>\n",
              "    <tr>\n",
              "      <th>49388</th>\n",
              "      <td>NaN</td>\n",
              "      <td>NaN</td>\n",
              "      <td>NaN</td>\n",
              "    </tr>\n",
              "  </tbody>\n",
              "</table>\n",
              "<p>49389 rows × 3 columns</p>\n",
              "</div>"
            ],
            "text/plain": [
              "               Words  POS   TAG\n",
              "0           Rockwell  NNP  B-NP\n",
              "1      International  NNP  I-NP\n",
              "2              Corp.  NNP  I-NP\n",
              "3                 's  POS  B-NP\n",
              "4              Tulsa  NNP  I-NP\n",
              "...              ...  ...   ...\n",
              "49384             to   TO  B-PP\n",
              "49385            Mr.  NNP  B-NP\n",
              "49386         Harlow  NNP  I-NP\n",
              "49387              .    .     O\n",
              "49388            NaN  NaN   NaN\n",
              "\n",
              "[49389 rows x 3 columns]"
            ]
          },
          "metadata": {
            "tags": []
          },
          "execution_count": 4
        }
      ]
    },
    {
      "cell_type": "code",
      "metadata": {
        "colab": {
          "base_uri": "https://localhost:8080/"
        },
        "id": "O9HzSSKGZeK7",
        "outputId": "134f89ef-2654-4abe-c0e0-c6f6c86fbd96"
      },
      "source": [
        "print(\"Null Train:\")\n",
        "print(train_data.isnull().sum())\n",
        "print(\"Null Test:\")\n",
        "print(test_data.isnull().sum())"
      ],
      "execution_count": 5,
      "outputs": [
        {
          "output_type": "stream",
          "text": [
            "Null Train:\n",
            "Words    3572\n",
            "POS      3572\n",
            "TAG      3572\n",
            "dtype: int64\n",
            "Null Test:\n",
            "Words    2012\n",
            "POS      2012\n",
            "TAG      2012\n",
            "dtype: int64\n"
          ],
          "name": "stdout"
        }
      ]
    },
    {
      "cell_type": "code",
      "metadata": {
        "id": "5Cx9S2ZnZ6WB"
      },
      "source": [
        "train_data.dropna(subset=['Words','POS','TAG'], inplace=True)\n",
        "train_data = train_data.reset_index()\n",
        "\n",
        "test_data.dropna(subset=['Words','POS','TAG'], inplace=True)\n",
        "test_data = test_data.reset_index()"
      ],
      "execution_count": 6,
      "outputs": []
    },
    {
      "cell_type": "code",
      "metadata": {
        "id": "qBBCSVlHau_u"
      },
      "source": [
        "# train_data['NumOfSentence'] = \"Sentence\"\n",
        "# test_data['NumOfSentence'] = \"Sentence\""
      ],
      "execution_count": 35,
      "outputs": []
    },
    {
      "cell_type": "code",
      "metadata": {
        "id": "M6Myep77bfLh"
      },
      "source": [
        "# j = 1\n",
        "# for i in range(0,len(train_data)):\n",
        "#   if train_data['TAG'][i] == 'O':\n",
        "#     j +=1\n",
        "#     train_data['NumOfSentence'][i] += str(j+1)\n",
        "#   else:\n",
        "#     train_data['NumOfSentence'][i] += str(j)"
      ],
      "execution_count": 36,
      "outputs": []
    },
    {
      "cell_type": "code",
      "metadata": {
        "id": "WxW65Vvdd0Gq"
      },
      "source": [
        "train_data = train_data[~train_data.TAG.str.contains(\"O\")]\n",
        "train_data = train_data.reset_index()\n",
        "\n",
        "test_data = test_data[~test_data.TAG.str.contains(\"O\")]\n",
        "test_data = test_data.reset_index()"
      ],
      "execution_count": 8,
      "outputs": []
    },
    {
      "cell_type": "code",
      "metadata": {
        "id": "RbYxckusi7Ta"
      },
      "source": [
        "# dTrain = [[str(train_data['NumOfSentence'][i])+\"_\"+str(train_data['Words'][i])+\"_\"+str(train_data['POS'][i])] for i in range(0,len(train_data))]\n",
        "dTrain = [[str(train_data['Words'][i])+\"_\"+str(train_data['POS'][i])] for i in range(0,len(train_data))]\n",
        "dTest = [[str(test_data['Words'][i])+\"_\"+str(test_data['POS'][i])] for i in range(0,len(test_data))]"
      ],
      "execution_count": 10,
      "outputs": []
    },
    {
      "cell_type": "code",
      "metadata": {
        "id": "rqK1G_NuhFry"
      },
      "source": [
        "# max_epochs = 5\n",
        "vec_size = 50\n",
        "model = FastText(min_count=1)\n",
        "model.build_vocab(dTrain)  # prepare the model vocabulary\n",
        "model.train(dTrain, total_examples=model.corpus_count, epochs=5)"
      ],
      "execution_count": 11,
      "outputs": []
    },
    {
      "cell_type": "code",
      "metadata": {
        "colab": {
          "base_uri": "https://localhost:8080/"
        },
        "id": "_Dr6SU8byJOk",
        "outputId": "e2f2cfa7-d348-42e2-e955-7cea85502c6a"
      },
      "source": [
        "len(model.wv.vocab)"
      ],
      "execution_count": 12,
      "outputs": [
        {
          "output_type": "execute_result",
          "data": {
            "text/plain": [
              "11923"
            ]
          },
          "metadata": {
            "tags": []
          },
          "execution_count": 12
        }
      ]
    },
    {
      "cell_type": "code",
      "metadata": {
        "id": "w5_Ui_VLwfci"
      },
      "source": [
        "def get_vec(model,dTrain,lab):\n",
        "  vector = []\n",
        "  tag = []\n",
        "  for i in range(0,len(dTrain)):\n",
        "    vector.append(model.wv[dTrain[i]])\n",
        "    tag.append(lab[i])\n",
        "  return vector,tag\n"
      ],
      "execution_count": 13,
      "outputs": []
    },
    {
      "cell_type": "code",
      "metadata": {
        "id": "yWyJpG1PxXVC"
      },
      "source": [
        "train_vec,train_tag = get_vec(model,dTrain,train_data.TAG)\n",
        "test_vec,test_tag = get_vec(model,dTest,test_data.TAG)"
      ],
      "execution_count": 14,
      "outputs": []
    },
    {
      "cell_type": "code",
      "metadata": {
        "colab": {
          "base_uri": "https://localhost:8080/"
        },
        "id": "Q9WuvQPh-ejH",
        "outputId": "39c5ec6f-2dbf-494c-963e-c751c66dbd16"
      },
      "source": [
        "print(\"label train : \",list(set(train_tag)))\n",
        "print(\"label test  : \",list(set(test_tag)))"
      ],
      "execution_count": 17,
      "outputs": [
        {
          "output_type": "stream",
          "text": [
            "label train :  ['I-ADVP', 'I-PP', 'B-LST', 'I-SBAR', 'B-PP', 'B-ADVP', 'B-INTJ', 'I-INTJ', 'B-ADJP', 'B-NP', 'I-NP', 'B-SBAR', 'I-PRT', 'I-VP', 'I-ADJP', 'B-VP', 'B-PRT']\n",
            "label test  :  ['I-ADVP', 'I-PP', 'B-LST', 'I-SBAR', 'B-PP', 'B-ADVP', 'I-LST', 'B-INTJ', 'B-ADJP', 'B-NP', 'I-NP', 'B-SBAR', 'I-VP', 'I-ADJP', 'B-VP', 'B-PRT']\n"
          ],
          "name": "stdout"
        }
      ]
    },
    {
      "cell_type": "code",
      "metadata": {
        "colab": {
          "base_uri": "https://localhost:8080/"
        },
        "id": "oI-2XkL30UJp",
        "outputId": "b1f16613-83f4-4a75-9f59-113c35608796"
      },
      "source": [
        "np.shape(train_label)"
      ],
      "execution_count": 311,
      "outputs": [
        {
          "output_type": "execute_result",
          "data": {
            "text/plain": [
              "(73315,)"
            ]
          },
          "metadata": {
            "tags": []
          },
          "execution_count": 311
        }
      ]
    },
    {
      "cell_type": "code",
      "metadata": {
        "id": "zg8O-JUjx9Yk"
      },
      "source": [
        "X_train,X_valid,y_train,y_valid = train_test_split(train_vec, train_tag, test_size=0.2, shuffle=True)"
      ],
      "execution_count": 18,
      "outputs": []
    },
    {
      "cell_type": "code",
      "metadata": {
        "id": "R1qSg0PS2ikl"
      },
      "source": [
        "X_train = np.reshape(X_train,(len(X_train),100))\n",
        "X_valid = np.reshape(X_valid,(len(X_valid),100))\n",
        "X_test = np.reshape(test_vec,(len(test_vec),100))"
      ],
      "execution_count": 19,
      "outputs": []
    },
    {
      "cell_type": "code",
      "metadata": {
        "colab": {
          "base_uri": "https://localhost:8080/"
        },
        "id": "rqCOGE9-yV5L",
        "outputId": "44ca84cb-df1f-4d9e-8b01-afd729721a5d"
      },
      "source": [
        "logreg = LogisticRegression(n_jobs=1, C=1e5)\n",
        "logreg.fit(X_train, y_train)"
      ],
      "execution_count": 20,
      "outputs": [
        {
          "output_type": "stream",
          "text": [
            "/usr/local/lib/python3.6/dist-packages/sklearn/linear_model/_logistic.py:940: ConvergenceWarning: lbfgs failed to converge (status=1):\n",
            "STOP: TOTAL NO. of ITERATIONS REACHED LIMIT.\n",
            "\n",
            "Increase the number of iterations (max_iter) or scale the data as shown in:\n",
            "    https://scikit-learn.org/stable/modules/preprocessing.html\n",
            "Please also refer to the documentation for alternative solver options:\n",
            "    https://scikit-learn.org/stable/modules/linear_model.html#logistic-regression\n",
            "  extra_warning_msg=_LOGISTIC_SOLVER_CONVERGENCE_MSG)\n"
          ],
          "name": "stderr"
        },
        {
          "output_type": "execute_result",
          "data": {
            "text/plain": [
              "LogisticRegression(C=100000.0, class_weight=None, dual=False,\n",
              "                   fit_intercept=True, intercept_scaling=1, l1_ratio=None,\n",
              "                   max_iter=100, multi_class='auto', n_jobs=1, penalty='l2',\n",
              "                   random_state=None, solver='lbfgs', tol=0.0001, verbose=0,\n",
              "                   warm_start=False)"
            ]
          },
          "metadata": {
            "tags": []
          },
          "execution_count": 20
        }
      ]
    },
    {
      "cell_type": "code",
      "metadata": {
        "colab": {
          "base_uri": "https://localhost:8080/"
        },
        "id": "IaqHmjGYBiS3",
        "outputId": "1944e1d4-4926-4a74-9b52-4f2101bf7c32"
      },
      "source": [
        "training1 = logreg.predict(X_train)\n",
        "print('Training accuracy (Logistic Regression) : %.2f' % (accuracy_score(training1, y_train)*100),\"%\")\n",
        "#\n",
        "y_pred_valid1 = logreg.predict(X_valid)\n",
        "print('Validation accuracy (Logistic Regression) : %.2f' % (accuracy_score(y_valid, y_pred_valid1)*100),\"%\")\n",
        "# \n",
        "y_pred_test1 = logreg.predict(X_test)\n",
        "print('Test accuracy (Logistic Regression) : %.2f' % (accuracy_score(test_tag, y_pred_test1)*100),\"%\")"
      ],
      "execution_count": 33,
      "outputs": [
        {
          "output_type": "stream",
          "text": [
            "Training accuracy (Logistic Regression) : 64.70 %\n",
            "Validation accuracy (Logistic Regression) : 64.05 %\n",
            "Test accuracy (Logistic Regression) : 64.84 %\n"
          ],
          "name": "stdout"
        }
      ]
    },
    {
      "cell_type": "code",
      "metadata": {
        "colab": {
          "base_uri": "https://localhost:8080/"
        },
        "id": "61XukvBizRA7",
        "outputId": "fa75ee91-f531-46f6-eea3-fd4f4ff64f87"
      },
      "source": [
        "RF = RandomForestClassifier(n_estimators=100,random_state=42)\n",
        "RF.fit(X_train, y_train)"
      ],
      "execution_count": 22,
      "outputs": [
        {
          "output_type": "execute_result",
          "data": {
            "text/plain": [
              "RandomForestClassifier(bootstrap=True, ccp_alpha=0.0, class_weight=None,\n",
              "                       criterion='gini', max_depth=None, max_features='auto',\n",
              "                       max_leaf_nodes=None, max_samples=None,\n",
              "                       min_impurity_decrease=0.0, min_impurity_split=None,\n",
              "                       min_samples_leaf=1, min_samples_split=2,\n",
              "                       min_weight_fraction_leaf=0.0, n_estimators=100,\n",
              "                       n_jobs=None, oob_score=False, random_state=42, verbose=0,\n",
              "                       warm_start=False)"
            ]
          },
          "metadata": {
            "tags": []
          },
          "execution_count": 22
        }
      ]
    },
    {
      "cell_type": "code",
      "metadata": {
        "colab": {
          "base_uri": "https://localhost:8080/"
        },
        "id": "flIeU4Oo5mCD",
        "outputId": "33616e57-5300-41d6-aee7-f62b44a9db27"
      },
      "source": [
        "training_2 = RF.predict(X_train)\n",
        "print('Training accuracy (Random Forest) : %.2f' % (accuracy_score(training_2, y_train)*100),\"%\")\n",
        "#\n",
        "y_pred_valid2 = RF.predict(X_valid)\n",
        "print('Validation accuracy (Random Forest) : %.2f' % (accuracy_score(y_valid, y_pred_valid2)*100),\"%\")\n",
        "\n",
        "y_pred_test2 = RF.predict(X_test)\n",
        "print('Test accuracy (Random Forest) : %.2f' % (accuracy_score(test_tag, y_pred_test2)*100),\"%\")"
      ],
      "execution_count": 34,
      "outputs": [
        {
          "output_type": "stream",
          "text": [
            "Training accuracy (Random Forest) : 86.67 %\n",
            "Validation accuracy (Random Forest) : 79.49 %\n",
            "Test accuracy (Random Forest) : 78.95 %\n"
          ],
          "name": "stdout"
        }
      ]
    },
    {
      "cell_type": "code",
      "metadata": {
        "colab": {
          "base_uri": "https://localhost:8080/"
        },
        "id": "bkBgEZW8Bx_T",
        "outputId": "d48734c3-74fa-49cd-86cb-d462a850e6cf"
      },
      "source": [
        "print(\"Similarity hasil prediksi dari 2 classifier : %.2f\"% (accuracy_score(y_pred_test1, y_pred_test2)*100),\"%\")"
      ],
      "execution_count": 32,
      "outputs": [
        {
          "output_type": "stream",
          "text": [
            "Similarity hasil prediksi dari 2 classifier : 70.83 %\n"
          ],
          "name": "stdout"
        }
      ]
    },
    {
      "cell_type": "code",
      "metadata": {
        "id": "bwAMq1gwD_rU"
      },
      "source": [
        ""
      ],
      "execution_count": null,
      "outputs": []
    }
  ]
}